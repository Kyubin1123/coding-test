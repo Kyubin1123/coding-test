{
 "cells": [
  {
   "cell_type": "markdown",
   "metadata": {},
   "source": [
    "**문제 설명**  \n",
    "\n",
    "\n",
    "\n",
    "---\n",
    "\n",
    "**제한사항**  \n",
    "\n",
    "---\n",
    "\n",
    "**입출력 예**  \n",
    "입력 #1  \n",
    ">\n",
    "\n",
    "출력#1  \n",
    ">"
   ]
  },
  {
   "cell_type": "code",
   "execution_count": null,
   "metadata": {},
   "outputs": [],
   "source": []
  },
  {
   "cell_type": "code",
   "execution_count": null,
   "metadata": {},
   "outputs": [],
   "source": []
  }
 ],
 "metadata": {
  "language_info": {
   "name": "python"
  }
 },
 "nbformat": 4,
 "nbformat_minor": 2
}
