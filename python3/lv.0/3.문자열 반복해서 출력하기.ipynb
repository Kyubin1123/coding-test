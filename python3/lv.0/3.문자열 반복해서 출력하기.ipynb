{
 "cells": [
  {
   "cell_type": "markdown",
   "metadata": {},
   "source": [
    "**문제 설명**  \n",
    "\n",
    "문자열 ```str```과 정수 ```n```이 주어집니다.  \n",
    "```str```이 ```n```번 반복된 문자열을 만들어 출력하는 코드를 작성해 보세요.\n",
    "\n",
    "---\n",
    "\n",
    "**제한사항**  \n",
    "- 1<= ```str```의 길이 <= 10\n",
    "- 1<= ```n``` <= 5\n",
    "\n",
    "---\n",
    "\n",
    "**입출력 예**  \n",
    "입력 #1  \n",
    "> string 5\n",
    "\n",
    "출력#1  \n",
    "> stringstringstringstriingstring"
   ]
  },
  {
   "cell_type": "code",
   "execution_count": null,
   "metadata": {},
   "outputs": [],
   "source": [
    "str, n = input().strip().split(' ')\n",
    "n = int(n)\n",
    "for i in range(n):\n",
    "    print(str, end=\"\")"
   ]
  }
 ],
 "metadata": {
  "language_info": {
   "name": "python"
  }
 },
 "nbformat": 4,
 "nbformat_minor": 2
}
