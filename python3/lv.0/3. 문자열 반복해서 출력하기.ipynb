{
 "cells": [
  {
   "cell_type": "markdown",
   "metadata": {},
   "source": [
    "**문제 설명**  \n",
    "\n",
    "문자열 ```str```과 정수 ```n```이 주어집니다.  \n",
    "```str```이 ```n```번 반복된 문자열을 만들어 출력하는 코드를 작성해 보세요.\n",
    "\n",
    "---\n",
    "\n",
    "**제한사항**  \n",
    "- 1<= ```str```의 길이 <= 10\n",
    "- 1<= ```n``` <= 5\n",
    "\n",
    "---\n",
    "\n",
    "**입출력 예**  \n",
    "입력 #1  \n",
    "> string 5\n",
    "\n",
    "출력#1  \n",
    "> stringstringstringstriingstring"
   ]
  },
  {
   "cell_type": "code",
   "execution_count": null,
   "metadata": {},
   "outputs": [],
   "source": [
    "str, n = input().strip().split(' ')\n",
    "n = int(n)\n",
    "for i in range(n):\n",
    "    print(str, end=\"\")"
   ]
  }
 ],
 "metadata": {
  "kernelspec": {
   "display_name": "Python 3",
   "language": "python",
   "name": "python3"
  },
  "language_info": {
   "codemirror_mode": {
    "name": "ipython",
    "version": 3
   },
   "file_extension": ".py",
   "mimetype": "text/x-python",
   "name": "python",
   "nbconvert_exporter": "python",
   "pygments_lexer": "ipython3",
   "version": "3.10.11"
  }
 },
 "nbformat": 4,
 "nbformat_minor": 2
}
