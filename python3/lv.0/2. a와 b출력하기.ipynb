{
 "cells": [
  {
   "cell_type": "markdown",
   "metadata": {},
   "source": [
    "**문제 설명**  \n",
    "\n",
    "정수 ``` a ```와 ```b```가 주어집니다. 각 수를 입력받아 입출력 에와 같은 형식으로 출력하는 코드를 작성해 보세요\n",
    "\n",
    "---\n",
    "\n",
    "**제한사항**  \n",
    "- -100,000 <= ```a```,```b``` <= 100,000\n",
    "\n",
    "---\n",
    "\n",
    "**입출력 예**  \n",
    "입력 #1  \n",
    "> 4 5\n",
    "\n",
    "출력#1  \n",
    "> a = 4  \n",
    "> b = 5"
   ]
  },
  {
   "cell_type": "code",
   "execution_count": null,
   "metadata": {},
   "outputs": [],
   "source": [
    "a, b = map(int, input().strip().split(' '))\n",
    "print('a = '+ str(a))\n",
    "print('b = '+ str(b))"
   ]
  }
 ],
 "metadata": {
  "kernelspec": {
   "display_name": "Python 3",
   "language": "python",
   "name": "python3"
  },
  "language_info": {
   "codemirror_mode": {
    "name": "ipython",
    "version": 3
   },
   "file_extension": ".py",
   "mimetype": "text/x-python",
   "name": "python",
   "nbconvert_exporter": "python",
   "pygments_lexer": "ipython3",
   "version": "3.10.11"
  }
 },
 "nbformat": 4,
 "nbformat_minor": 2
}
