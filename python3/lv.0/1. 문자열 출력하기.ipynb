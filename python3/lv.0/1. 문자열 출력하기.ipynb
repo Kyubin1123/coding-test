{
 "cells": [
  {
   "cell_type": "markdown",
   "metadata": {},
   "source": [
    "**문제 설명**  \n",
    "\n",
    "문자열 ```str```이 주어질 때, ```str```을 출력하는 코드를 작성해 보세요.\n",
    "\n",
    "---\n",
    "\n",
    "**제한사항**  \n",
    "- 1<= ```str```의 길이 <= 1,000,000\n",
    "- str에는 공백이 없으며, 첫째 줄에 한 줄로만 주어집니다.\n",
    "\n",
    "---\n",
    "\n",
    "**입출력 예**  \n",
    "입력 #1  \n",
    "> HelloWorld!  \n",
    "\n",
    "출력#1  \n",
    "> HelloWorld!  "
   ]
  },
  {
   "cell_type": "code",
   "execution_count": null,
   "metadata": {},
   "outputs": [],
   "source": [
    "str = input()\n",
    "print(str)"
   ]
  }
 ],
 "metadata": {
  "kernelspec": {
   "display_name": "Python 3",
   "language": "python",
   "name": "python3"
  },
  "language_info": {
   "codemirror_mode": {
    "name": "ipython",
    "version": 3
   },
   "file_extension": ".py",
   "mimetype": "text/x-python",
   "name": "python",
   "nbconvert_exporter": "python",
   "pygments_lexer": "ipython3",
   "version": "3.10.11"
  }
 },
 "nbformat": 4,
 "nbformat_minor": 2
}
