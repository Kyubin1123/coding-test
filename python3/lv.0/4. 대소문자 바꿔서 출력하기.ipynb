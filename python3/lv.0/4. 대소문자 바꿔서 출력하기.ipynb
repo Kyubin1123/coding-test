{
 "cells": [
  {
   "cell_type": "markdown",
   "metadata": {},
   "source": [
    "**문제 설명**  \n",
    "\n",
    "영어 알파벳으로 이루어진 문자열 ```str```이 주어집니다. 각 알파벳을 대문자는 소문자로 소문자는 대문자로 변환해서 출력하는 코드를 작성해 보세요.\n",
    "\n",
    "---\n",
    "\n",
    "**제한사항**  \n",
    "- 1<= ```str```의 길이 <= 20\n",
    "    - ```str```은 알파벳으로 이루어진 문자열입니다.\n",
    "\n",
    "---\n",
    "\n",
    "**입출력 예**  \n",
    "입력 #1  \n",
    "> aBcDeFg\n",
    "\n",
    "출력#1  \n",
    "> AbCdEfG"
   ]
  },
  {
   "cell_type": "code",
   "execution_count": null,
   "metadata": {},
   "outputs": [],
   "source": [
    "str = input()\n",
    "\n",
    "for i in str:\n",
    "    if i.isupper() == True:\n",
    "        print(i.lower(), end=\"\")\n",
    "    else:\n",
    "        print(i.upper(), end=\"\")"
   ]
  }
 ],
 "metadata": {
  "language_info": {
   "name": "python"
  }
 },
 "nbformat": 4,
 "nbformat_minor": 2
}
