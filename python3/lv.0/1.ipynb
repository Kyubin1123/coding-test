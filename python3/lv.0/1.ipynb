{
 "cells": [
  {
   "cell_type": "markdown",
   "metadata": {},
   "source": [
    "**문제 설명**  \n",
    "\n",
    "문자열 ```str```이 주어질 때, ```str```을 출력하는 코드를 작성해 보세요.\n",
    "\n",
    "---\n",
    "\n",
    "**제한사항**  \n",
    "- 1<= ```str```의 길이 <= 1,000,000\n",
    "- str에는 공백이 없으며, 첫째 줄에 한 줄로만 주어집니다.\n",
    "\n",
    "---\n",
    "\n",
    "**입출력 예**  \n",
    "입력 #1  \n",
    "> HelloWorld!  \n",
    "\n",
    "출력#1  \n",
    "> HelloWorld!  "
   ]
  },
  {
   "cell_type": "code",
   "execution_count": null,
   "metadata": {},
   "outputs": [],
   "source": [
    "str = input()\n",
    "print(str)"
   ]
  }
 ],
 "metadata": {
  "language_info": {
   "name": "python"
  }
 },
 "nbformat": 4,
 "nbformat_minor": 2
}
